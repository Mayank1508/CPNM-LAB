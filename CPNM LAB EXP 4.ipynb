{
 "cells": [
  {
   "cell_type": "code",
   "execution_count": 1,
   "metadata": {},
   "outputs": [
    {
     "name": "stdout",
     "output_type": "stream",
     "text": [
      "The root = 0.250324 at 4 false position\n"
     ]
    }
   ],
   "source": [
    "from math import sin, exp\n",
    "def regula_falsi(f, x1, x2, tol = 1e-6, maxfpos = 100):\n",
    "    '''Regula Falsi Method'''\n",
    "    xh = 0\n",
    "    fpos = 0\n",
    "    if f(x1) * f(x2) < 0:\n",
    "        for fpos in range (1, maxfpos + 1):\n",
    "            xh = x2-((x2-x1)/(f(x2)-f(x1)))*f(x2)\n",
    "            if abs(f(xh)) < tol:\n",
    "                break\n",
    "            elif (f(x1)*f(xh) < 0):\n",
    "                x2 = xh\n",
    "            else:\n",
    "                x1 = xh\n",
    "    else:\n",
    "        print('No root exists in the given interval')\n",
    "    return xh, fpos\n",
    "\n",
    "# Testing the code\n",
    "y = lambda x : x**2 - sin(x)**2 - 4*x + 1\n",
    "x1 = 0\n",
    "x2 = 1\n",
    "r, n = regula_falsi(y, x1, x2)\n",
    "print('The root = %f at %d false position'%(r, n))"
   ]
  },
  {
   "cell_type": "code",
   "execution_count": 2,
   "metadata": {},
   "outputs": [
    {
     "name": "stdout",
     "output_type": "stream",
     "text": [
      "The root = 0.360422 at 6 false position\n"
     ]
    }
   ],
   "source": [
    "y = lambda x : 3*x + sin(x) - exp(x)\n",
    "x1 = 0\n",
    "x2 = 0.5\n",
    "r1, n1 = regula_falsi(y, x1, x2)\n",
    "print('The root = %f at %d false position'%(r1, n1))"
   ]
  },
  {
   "cell_type": "code",
   "execution_count": null,
   "metadata": {},
   "outputs": [],
   "source": []
  }
 ],
 "metadata": {
  "kernelspec": {
   "display_name": "Python 3",
   "language": "python",
   "name": "python3"
  },
  "language_info": {
   "codemirror_mode": {
    "name": "ipython",
    "version": 3
   },
   "file_extension": ".py",
   "mimetype": "text/x-python",
   "name": "python",
   "nbconvert_exporter": "python",
   "pygments_lexer": "ipython3",
   "version": "3.8.3"
  }
 },
 "nbformat": 4,
 "nbformat_minor": 4
}
