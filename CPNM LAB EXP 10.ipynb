{
 "cells": [
  {
   "cell_type": "code",
   "execution_count": 2,
   "metadata": {},
   "outputs": [
    {
     "name": "stdout",
     "output_type": "stream",
     "text": [
      "Enter initial conditions:\n",
      "x0 = 0\n",
      "y0 = 1\n",
      "Enter calculation point:\n",
      "xn = 1\n",
      "Enter number of steps:\n",
      "Number of steps = 2\n",
      "\n",
      "--------SOLUTION--------\n",
      "-------------------------\n",
      "x0\ty0\tyn\n",
      "-------------------------\n",
      "0.0000\t1.0000\t1.7969\n",
      "-------------------------\n",
      "0.5000\t1.7969\t3.4347\n",
      "-------------------------\n",
      "\n",
      "At x=1.0000, y=3.4347 \n"
     ]
    }
   ],
   "source": [
    "# RK-4 method python program\n",
    "\n",
    "# function to be solved\n",
    "def f(x,y):\n",
    "    return x+y\n",
    "\n",
    "# or\n",
    "# f = lambda x: x+y\n",
    "\n",
    "# RK-4 method\n",
    "def rk4(x0,y0,xn,n):\n",
    "\n",
    "# Calculating step size\n",
    "    h = (xn-x0)/n\n",
    "\n",
    "    print('\\n--------SOLUTION--------')\n",
    "    print('-------------------------')\n",
    "    print('x0\\ty0\\tyn')\n",
    "    print('-------------------------')\n",
    "    for i in range(n):\n",
    "\n",
    "        k1 = h * (f(x0, y0))\n",
    "        k2 = h * (f((x0+h/2), (y0+k1/2)))\n",
    "        k3 = h * (f((x0+h/2), (y0+k2/2)))\n",
    "        k4 = h * (f((x0+h), (y0+k3)))\n",
    "        k = (k1+2*k2+2*k3+k4)/6\n",
    "        yn = y0 + k\n",
    "        print('%.4f\\t%.4f\\t%.4f'%(x0,y0,yn) )\n",
    "        print('-------------------------')\n",
    "        y0 = yn\n",
    "        x0 = x0+h\n",
    "\n",
    "    print('\\nAt x=%.4f, y=%.4f '%(xn,yn))\n",
    "\n",
    "# Inputs\n",
    "print('Enter initial conditions:')\n",
    "x0 = float(input('x0 = '))\n",
    "y0 = float(input('y0 = '))\n",
    "\n",
    "print('Enter calculation point:')\n",
    "xn = float(input('xn = ' ))\n",
    "\n",
    "print('Enter number of steps:')\n",
    "step = int(input('Number of steps = '))\n",
    "\n",
    "# RK4 method call\n",
    "rk4(x0,y0,xn,step)"
   ]
  },
  {
   "cell_type": "code",
   "execution_count": null,
   "metadata": {},
   "outputs": [],
   "source": []
  }
 ],
 "metadata": {
  "kernelspec": {
   "display_name": "Python 3",
   "language": "python",
   "name": "python3"
  },
  "language_info": {
   "codemirror_mode": {
    "name": "ipython",
    "version": 3
   },
   "file_extension": ".py",
   "mimetype": "text/x-python",
   "name": "python",
   "nbconvert_exporter": "python",
   "pygments_lexer": "ipython3",
   "version": "3.8.3"
  }
 },
 "nbformat": 4,
 "nbformat_minor": 4
}
