{
 "cells": [
  {
   "cell_type": "markdown",
   "metadata": {},
   "source": [
    "### Design a simple calculator using functions in Python programming language."
   ]
  },
  {
   "cell_type": "code",
   "execution_count": 1,
   "metadata": {},
   "outputs": [
    {
     "name": "stdout",
     "output_type": "stream",
     "text": [
      "Enter the 1st no:100\n",
      "Enter the 2nd no:69\n",
      "\n",
      "Option Menu:\n",
      "1. Addition\n",
      "2. Subtraction\n",
      "3. Multiplication\n",
      "4. Division\n",
      "    \n",
      "Enter your option:2\n",
      "100.0 - 69.0 = 31.0\n"
     ]
    }
   ],
   "source": [
    "def calc():\n",
    "    '''Simple Calculator'''\n",
    "    num1 = float(input(\"Enter the 1st no:\"))\n",
    "    num2 = float(input(\"Enter the 2nd no:\"))\n",
    "    print('''\n",
    "Option Menu:\n",
    "1. Addition\n",
    "2. Subtraction\n",
    "3. Multiplication\n",
    "4. Division\n",
    "    ''')\n",
    "    opt = int(input(\"Enter your option:\"))\n",
    "    if (opt == 1):\n",
    "        print(\"%s + %s = %s\"%(num1, num2, num1+num2))\n",
    "    elif (opt == 2):\n",
    "        print(\"%s - %s = %s\"%(num1, num2, num1-num2))\n",
    "    elif (opt == 3):\n",
    "        print(\"%s * %s = %s\"%(num1, num2, num1*num2))\n",
    "    elif (opt == 4):\n",
    "        print(\"%s / %s = %s\"%(num1, num2, num1/num2))\n",
    "    else:\n",
    "        print(\"Ivalid I/P\")\n",
    "        \n",
    "# Calling the function        \n",
    "calc()"
   ]
  },
  {
   "cell_type": "code",
   "execution_count": null,
   "metadata": {},
   "outputs": [],
   "source": []
  }
 ],
 "metadata": {
  "kernelspec": {
   "display_name": "Python 3",
   "language": "python",
   "name": "python3"
  },
  "language_info": {
   "codemirror_mode": {
    "name": "ipython",
    "version": 3
   },
   "file_extension": ".py",
   "mimetype": "text/x-python",
   "name": "python",
   "nbconvert_exporter": "python",
   "pygments_lexer": "ipython3",
   "version": "3.8.3"
  }
 },
 "nbformat": 4,
 "nbformat_minor": 4
}
