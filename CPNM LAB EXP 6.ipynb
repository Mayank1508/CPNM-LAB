{
 "cells": [
  {
   "cell_type": "code",
   "execution_count": 1,
   "metadata": {},
   "outputs": [
    {
     "name": "stdout",
     "output_type": "stream",
     "text": [
      "Solution of 1st equation: x = 1.6180339887498947, f(x) = -2.220446049250313e-16\n",
      "Solution of 2nd equation: x = 1.1477572664034958, f(x) = -9.556316048486835e-07\n"
     ]
    }
   ],
   "source": [
    "import math\n",
    "\n",
    "def secant(f, a, b, tol = 1e-10, maxit = 100):\n",
    "\n",
    "    fa = f(a)\n",
    "    if abs(fa) < tol:\n",
    "        return a\n",
    "\n",
    "    fb = f(b)\n",
    "    if abs(fb) < tol:\n",
    "        return b\n",
    "\n",
    "    if fa*fb > 0:\n",
    "        print(\"f(a) and f(b) must have different signs.\")\n",
    "        return None\n",
    "\n",
    "    for _ in range(maxit):\n",
    "\n",
    "        c = (a*fb - b*fa)/(fb - fa)\n",
    "        fc = f(c)\n",
    "\n",
    "        if abs(b - a) < tol:\n",
    "            break\n",
    "        \n",
    "        if abs(fc) < tol:\n",
    "            break\n",
    "\n",
    "        if fa*fc > 0:\n",
    "            a, fa = c, fc\n",
    "\n",
    "        if fb*fc > 0:\n",
    "            b, fb = c, fc\n",
    "\n",
    "    return c\n",
    "\n",
    "func = lambda x: x**2 - x - 1\n",
    "a = 1\n",
    "b = 5\n",
    "x = secant(func, a, b, tol = 1e-20, maxit = 100)\n",
    "print(\"Solution of 1st equation: x = {}, f(x) = {}\".format(x, func(x)))\n",
    "\n",
    "func2 = lambda x: x**2 - math.exp(-x) - 1\n",
    "x2 = secant(func2, -1, 5, tol = 1e-6)\n",
    "print(\"Solution of 2nd equation: x = {}, f(x) = {}\".format(x2, func2(x2)))\n"
   ]
  },
  {
   "cell_type": "code",
   "execution_count": null,
   "metadata": {},
   "outputs": [],
   "source": []
  }
 ],
 "metadata": {
  "kernelspec": {
   "display_name": "Python 3",
   "language": "python",
   "name": "python3"
  },
  "language_info": {
   "codemirror_mode": {
    "name": "ipython",
    "version": 3
   },
   "file_extension": ".py",
   "mimetype": "text/x-python",
   "name": "python",
   "nbconvert_exporter": "python",
   "pygments_lexer": "ipython3",
   "version": "3.8.3"
  }
 },
 "nbformat": 4,
 "nbformat_minor": 4
}
