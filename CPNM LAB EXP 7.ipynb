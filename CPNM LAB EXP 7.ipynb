{
 "cells": [
  {
   "cell_type": "code",
   "execution_count": 3,
   "metadata": {},
   "outputs": [
    {
     "name": "stdout",
     "output_type": "stream",
     "text": [
      "The solution:\n",
      "[-0.5         1.          0.33333333 -2.        ]\n",
      "The transformed:\n",
      "[[1. 0. 0. 0.]\n",
      " [0. 1. 0. 0.]\n",
      " [0. 0. 1. 0.]\n",
      " [0. 0. 0. 1.]]\n"
     ]
    }
   ],
   "source": [
    "import numpy as np\n",
    "def gauss_jordan(a, b):\n",
    "    a = np.array(a, float)\n",
    "    b = np.array(b, float)\n",
    "    n = len(b)\n",
    "    #main loop\n",
    "    for k in range(n):\n",
    "        #partial pivoting\n",
    "        if np.fabs(a[k, k]) < 1e-12:\n",
    "            for i in range (k+1, n):\n",
    "                if np.fabs(a[i, k]) > np.fabs(a[k, k]):\n",
    "                    for j in range(k, n):\n",
    "                        a[k, j], a[i, j] = a[i, j], a[k, j]\n",
    "                    b[k], b[i] = b[i], b[k]\n",
    "                    break\n",
    "        pivot = a[k, k]\n",
    "        for j in range(k, n):\n",
    "            a[k, j] /= pivot\n",
    "        b[k] /= pivot\n",
    "        #elimination loop\n",
    "        for i in range(n):\n",
    "            if i == k or a[i, k] == 0:\n",
    "                continue\n",
    "            factor = a[i, k]\n",
    "            for j in range(k, n):\n",
    "                a[i, j] -= factor * a[k, j]\n",
    "            b[i] -= factor * b[k]\n",
    "    return b, a\n",
    "\n",
    "\n",
    "a =[[0,2,0,1],[2,2,3,2],[4,-3,0,1],[6,1,-6,-5]]\n",
    "b = [0,-2,-7,6]\n",
    "\n",
    "X, A = gauss_jordan(a, b)\n",
    "\n",
    "print(\"The solution:\")\n",
    "print(X)\n",
    "print(\"The transformed:\")\n",
    "print(A)"
   ]
  },
  {
   "cell_type": "code",
   "execution_count": null,
   "metadata": {},
   "outputs": [],
   "source": []
  }
 ],
 "metadata": {
  "kernelspec": {
   "display_name": "Python 3",
   "language": "python",
   "name": "python3"
  },
  "language_info": {
   "codemirror_mode": {
    "name": "ipython",
    "version": 3
   },
   "file_extension": ".py",
   "mimetype": "text/x-python",
   "name": "python",
   "nbconvert_exporter": "python",
   "pygments_lexer": "ipython3",
   "version": "3.8.3"
  }
 },
 "nbformat": 4,
 "nbformat_minor": 4
}
