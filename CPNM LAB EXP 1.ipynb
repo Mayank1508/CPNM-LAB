{
 "cells": [
  {
   "cell_type": "markdown",
   "metadata": {},
   "source": [
    "### 1. Python Program to Print Hello MGMCET"
   ]
  },
  {
   "cell_type": "code",
   "execution_count": 1,
   "metadata": {},
   "outputs": [
    {
     "name": "stdout",
     "output_type": "stream",
     "text": [
      "Hello MGMCET\n"
     ]
    }
   ],
   "source": [
    "print(\"Hello MGMCET\")"
   ]
  },
  {
   "cell_type": "markdown",
   "metadata": {},
   "source": [
    "### 2. Python Program to Check If number is Even or Odd"
   ]
  },
  {
   "cell_type": "code",
   "execution_count": 2,
   "metadata": {},
   "outputs": [
    {
     "name": "stdout",
     "output_type": "stream",
     "text": [
      "False\n",
      "True\n"
     ]
    }
   ],
   "source": [
    "def isEven(num):\n",
    "    '''Checks the no is even or not'''\n",
    "    if num % 2 == 0:\n",
    "        return True\n",
    "    return False\n",
    "\n",
    "# Checking the function \n",
    "print(isEven(5))\n",
    "print(isEven(100))"
   ]
  },
  {
   "cell_type": "markdown",
   "metadata": {},
   "source": [
    "### 3. Python program to check whether the input character is an alphabet\n"
   ]
  },
  {
   "cell_type": "code",
   "execution_count": 3,
   "metadata": {},
   "outputs": [
    {
     "name": "stdout",
     "output_type": "stream",
     "text": [
      "False\n",
      "True\n",
      "True\n"
     ]
    }
   ],
   "source": [
    "def isalphabet(char):\n",
    "    '''Checks the entered value is alphabet or not'''\n",
    "    if (char>='a' and char <='z') or (char >= 'A' and char<='Z'):\n",
    "        return True\n",
    "    return False\n",
    "\n",
    "# Checking the function\n",
    "print(isalphabet(\"7\"))\n",
    "print(isalphabet(\"A\"))\n",
    "print(isalphabet(\"v\"))"
   ]
  },
  {
   "cell_type": "markdown",
   "metadata": {},
   "source": [
    "### 4. Python Program to Check if a Number is Positive Negative or Zero"
   ]
  },
  {
   "cell_type": "code",
   "execution_count": 4,
   "metadata": {},
   "outputs": [
    {
     "name": "stdout",
     "output_type": "stream",
     "text": [
      "5 is a positive number\n",
      "-273.1 is a negitive number\n",
      "Given number is zero\n"
     ]
    }
   ],
   "source": [
    "def check_the_num(number):\n",
    "    '''Checks if a Number is Positive, Negative or Zero'''\n",
    "    if number > 0:\n",
    "        print('%s is a positive number'%number)\n",
    "    elif number < 0:\n",
    "        print('%s is a negitive number'%number)\n",
    "    else:\n",
    "        print('Given number is zero')\n",
    "        \n",
    "# Checking the function    \n",
    "check_the_num(5)\n",
    "check_the_num(-273.10)\n",
    "check_the_num(0)"
   ]
  },
  {
   "cell_type": "markdown",
   "metadata": {},
   "source": [
    "### 5. Python Program to Check Whether a String is Palindrome or Not"
   ]
  },
  {
   "cell_type": "code",
   "execution_count": 5,
   "metadata": {},
   "outputs": [
    {
     "name": "stdout",
     "output_type": "stream",
     "text": [
      "True\n",
      "False\n"
     ]
    }
   ],
   "source": [
    "def isPalindrome(string):\n",
    "    '''Checks Whether a String is Palindrome or Not'''\n",
    "    string = string.lower()\n",
    "    temp = string[::-1]\n",
    "    if string == temp:\n",
    "        return True\n",
    "    return False\n",
    "\n",
    "# Checking the function\n",
    "print(isPalindrome(\"Nayan\"))\n",
    "print(isPalindrome(\"CPNM\"))"
   ]
  },
  {
   "cell_type": "code",
   "execution_count": null,
   "metadata": {},
   "outputs": [],
   "source": []
  }
 ],
 "metadata": {
  "kernelspec": {
   "display_name": "Python 3",
   "language": "python",
   "name": "python3"
  },
  "language_info": {
   "codemirror_mode": {
    "name": "ipython",
    "version": 3
   },
   "file_extension": ".py",
   "mimetype": "text/x-python",
   "name": "python",
   "nbconvert_exporter": "python",
   "pygments_lexer": "ipython3",
   "version": "3.8.3"
  }
 },
 "nbformat": 4,
 "nbformat_minor": 4
}
