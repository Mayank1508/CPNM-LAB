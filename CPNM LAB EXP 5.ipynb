{
 "cells": [
  {
   "cell_type": "code",
   "execution_count": 1,
   "metadata": {},
   "outputs": [
    {
     "name": "stdout",
     "output_type": "stream",
     "text": [
      "Solution: x = 1.618033988749989, f(x) = 2.1049828546892968e-13\n",
      "Solution: x = 1.8900297292519854, f(x) = 0.0\n"
     ]
    }
   ],
   "source": [
    "import math\n",
    "\n",
    "def derivative(f, x, dx = 1e-6):\n",
    "    df = f(x + dx) - f(x - dx)\n",
    "    return df/(2*dx)\n",
    "\n",
    "def newton(f, x0, tol = 1e-10, maxit = 100):\n",
    "\n",
    "    x = x0\n",
    "    fx = f(x)\n",
    "\n",
    "    for _ in range(maxit):\n",
    "\n",
    "        if abs(fx) < tol:\n",
    "            break\n",
    "        \n",
    "        fpx = derivative(f, x)\n",
    "        if abs(fpx) < tol:\n",
    "            break\n",
    "\n",
    "        x = x - fx/fpx\n",
    "        fx = f(x)\n",
    "\n",
    "    return x\n",
    "\n",
    "func = lambda x: x**2 - x - 1\n",
    "x0 = 2\n",
    "x = newton(func, x0, tol = 1e-10, maxit = 100)\n",
    "print(\"Solution: x = {}, f(x) = {}\".format(x, func(x)))\n",
    "\n",
    "y = lambda x : 3*x + math.sin(x) - math.exp(x)\n",
    "x0 = 2\n",
    "x = newton(y, x0, tol = 1e-10, maxit = 100)\n",
    "print(\"Solution: x = {}, f(x) = {}\".format(x, y(x)))\n"
   ]
  },
  {
   "cell_type": "code",
   "execution_count": null,
   "metadata": {},
   "outputs": [],
   "source": []
  }
 ],
 "metadata": {
  "kernelspec": {
   "display_name": "Python 3",
   "language": "python",
   "name": "python3"
  },
  "language_info": {
   "codemirror_mode": {
    "name": "ipython",
    "version": 3
   },
   "file_extension": ".py",
   "mimetype": "text/x-python",
   "name": "python",
   "nbconvert_exporter": "python",
   "pygments_lexer": "ipython3",
   "version": "3.8.3"
  }
 },
 "nbformat": 4,
 "nbformat_minor": 4
}
