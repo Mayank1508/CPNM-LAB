{
 "cells": [
  {
   "cell_type": "code",
   "execution_count": 3,
   "metadata": {},
   "outputs": [
    {
     "name": "stdout",
     "output_type": "stream",
     "text": [
      "Solution of 1st equation: x = 1.62109375, f(x) = 0.0068511962890625\n",
      "Solution of 2nd equation: x = 1.1477577686309814, f(x) = 3.566198358839756e-07\n"
     ]
    }
   ],
   "source": [
    "import math\n",
    "\n",
    "def bisection(f, a, b, tol = 1e-10, maxit = 100):\n",
    "\n",
    "    fa = f(a)\n",
    "    if abs(fa) < tol:\n",
    "        return a\n",
    "\n",
    "    fb = f(b)\n",
    "    if abs(fb) < tol:\n",
    "        return b\n",
    "\n",
    "    if fa*fb > 0:\n",
    "        print(\"f(a) and f(b) must have different signs.\")\n",
    "        return None\n",
    "\n",
    "    for _ in range(maxit):\n",
    "\n",
    "        c = (a + b)/2\n",
    "        fc = f(c)\n",
    "\n",
    "        if abs(b - a) < tol:\n",
    "            break\n",
    "        \n",
    "        if abs(fc) < tol:\n",
    "            break\n",
    "\n",
    "        if fa*fc > 0:\n",
    "            a, fa = c, fc\n",
    "\n",
    "        if fb*fc > 0:\n",
    "            b, fb = c, fc\n",
    "\n",
    "    return c\n",
    "\n",
    "func = lambda x: x**2 - x - 1\n",
    "a = 1\n",
    "b = 5\n",
    "x = bisection(func, a, b, tol = 1e-20, maxit = 10)\n",
    "print(\"Solution of 1st equation: x = {}, f(x) = {}\".format(x, func(x)))\n",
    "\n",
    "func2 = lambda x: x**2 - math.exp(-x) - 1\n",
    "x2 = bisection(func2, -1, 5, tol = 1e-6)\n",
    "print(\"Solution of 2nd equation: x = {}, f(x) = {}\".format(x2, func2(x2)))\n"
   ]
  },
  {
   "cell_type": "code",
   "execution_count": null,
   "metadata": {},
   "outputs": [],
   "source": []
  }
 ],
 "metadata": {
  "kernelspec": {
   "display_name": "Python 3",
   "language": "python",
   "name": "python3"
  },
  "language_info": {
   "codemirror_mode": {
    "name": "ipython",
    "version": 3
   },
   "file_extension": ".py",
   "mimetype": "text/x-python",
   "name": "python",
   "nbconvert_exporter": "python",
   "pygments_lexer": "ipython3",
   "version": "3.8.3"
  }
 },
 "nbformat": 4,
 "nbformat_minor": 4
}
